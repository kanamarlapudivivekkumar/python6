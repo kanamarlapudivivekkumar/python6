{
 "cells": [
  {
   "cell_type": "markdown",
   "id": "595524dc",
   "metadata": {},
   "source": [
    "# data types"
   ]
  },
  {
   "cell_type": "code",
   "execution_count": null,
   "id": "ab0dfc6f",
   "metadata": {},
   "outputs": [],
   "source": [
    "int\n",
    "float\n",
    "string\n",
    "boolean\n",
    "complex"
   ]
  },
  {
   "cell_type": "code",
   "execution_count": 1,
   "id": "e04cb7e3",
   "metadata": {},
   "outputs": [
    {
     "data": {
      "text/plain": [
       "4"
      ]
     },
     "execution_count": 1,
     "metadata": {},
     "output_type": "execute_result"
    }
   ],
   "source": [
    "b=4\n",
    "b"
   ]
  },
  {
   "cell_type": "code",
   "execution_count": 2,
   "id": "20ab957b",
   "metadata": {},
   "outputs": [
    {
     "data": {
      "text/plain": [
       "int"
      ]
     },
     "execution_count": 2,
     "metadata": {},
     "output_type": "execute_result"
    }
   ],
   "source": [
    "type(b)"
   ]
  },
  {
   "cell_type": "code",
   "execution_count": 3,
   "id": "c06d0963",
   "metadata": {},
   "outputs": [
    {
     "data": {
      "text/plain": [
       "34.5"
      ]
     },
     "execution_count": 3,
     "metadata": {},
     "output_type": "execute_result"
    }
   ],
   "source": [
    "c=34.5\n",
    "c"
   ]
  },
  {
   "cell_type": "code",
   "execution_count": 4,
   "id": "6a60fb04",
   "metadata": {},
   "outputs": [
    {
     "data": {
      "text/plain": [
       "float"
      ]
     },
     "execution_count": 4,
     "metadata": {},
     "output_type": "execute_result"
    }
   ],
   "source": [
    "type(c)"
   ]
  },
  {
   "cell_type": "code",
   "execution_count": 5,
   "id": "932d9bc0",
   "metadata": {},
   "outputs": [
    {
     "data": {
      "text/plain": [
       "'vivekkumar'"
      ]
     },
     "execution_count": 5,
     "metadata": {},
     "output_type": "execute_result"
    }
   ],
   "source": [
    "d='vivekkumar'\n",
    "d"
   ]
  },
  {
   "cell_type": "code",
   "execution_count": 6,
   "id": "1812ab51",
   "metadata": {},
   "outputs": [
    {
     "data": {
      "text/plain": [
       "str"
      ]
     },
     "execution_count": 6,
     "metadata": {},
     "output_type": "execute_result"
    }
   ],
   "source": [
    "type(d)"
   ]
  },
  {
   "cell_type": "code",
   "execution_count": 7,
   "id": "ab05566f",
   "metadata": {},
   "outputs": [
    {
     "data": {
      "text/plain": [
       "(5+4j)"
      ]
     },
     "execution_count": 7,
     "metadata": {},
     "output_type": "execute_result"
    }
   ],
   "source": [
    "e=5+4j\n",
    "e"
   ]
  },
  {
   "cell_type": "code",
   "execution_count": 8,
   "id": "4b850e4c",
   "metadata": {},
   "outputs": [
    {
     "data": {
      "text/plain": [
       "complex"
      ]
     },
     "execution_count": 8,
     "metadata": {},
     "output_type": "execute_result"
    }
   ],
   "source": [
    "type(e)"
   ]
  },
  {
   "cell_type": "code",
   "execution_count": 10,
   "id": "3d8ca325",
   "metadata": {},
   "outputs": [
    {
     "data": {
      "text/plain": [
       "True"
      ]
     },
     "execution_count": 10,
     "metadata": {},
     "output_type": "execute_result"
    }
   ],
   "source": [
    "t=True\n",
    "t"
   ]
  },
  {
   "cell_type": "code",
   "execution_count": 11,
   "id": "798530dc",
   "metadata": {},
   "outputs": [
    {
     "data": {
      "text/plain": [
       "bool"
      ]
     },
     "execution_count": 11,
     "metadata": {},
     "output_type": "execute_result"
    }
   ],
   "source": [
    "type(t)"
   ]
  },
  {
   "cell_type": "code",
   "execution_count": 12,
   "id": "cdd6fc5b",
   "metadata": {},
   "outputs": [
    {
     "data": {
      "text/plain": [
       "False"
      ]
     },
     "execution_count": 12,
     "metadata": {},
     "output_type": "execute_result"
    }
   ],
   "source": [
    "y=False\n",
    "y"
   ]
  },
  {
   "cell_type": "code",
   "execution_count": 15,
   "id": "f76508d5",
   "metadata": {},
   "outputs": [
    {
     "data": {
      "text/plain": [
       "(4+4j)"
      ]
     },
     "execution_count": 15,
     "metadata": {},
     "output_type": "execute_result"
    }
   ],
   "source": [
    "t=4+4j\n",
    "t"
   ]
  },
  {
   "cell_type": "code",
   "execution_count": 4,
   "id": "388ce83d",
   "metadata": {},
   "outputs": [
    {
     "data": {
      "text/plain": [
       "55"
      ]
     },
     "execution_count": 4,
     "metadata": {},
     "output_type": "execute_result"
    }
   ],
   "source": [
    "a=1\n",
    "b=2\n",
    "c=3\n",
    "d=4\n",
    "e=5\n",
    "f=6\n",
    "g=7\n",
    "h=8\n",
    "i=9\n",
    "j=10\n",
    "a+b+c+d+e+f+g+h+i+j"
   ]
  },
  {
   "cell_type": "code",
   "execution_count": 2,
   "id": "aa18882b",
   "metadata": {},
   "outputs": [
    {
     "data": {
      "text/plain": [
       "'vivekrajudayakhilcharanrithvikyeswanthharicharankamalraghu'"
      ]
     },
     "execution_count": 2,
     "metadata": {},
     "output_type": "execute_result"
    }
   ],
   "source": [
    "a = 'vivek'\n",
    "b = 'raj'\n",
    "c='uday'\n",
    "d='akhil'\n",
    "e='charan'\n",
    "f='rithvik'\n",
    "g='yeswanth'\n",
    "h='haricharan'\n",
    "i='kamal'\n",
    "j='raghu'\n",
    "a+b+c+d+e+f+g+h+i+j"
   ]
  },
  {
   "cell_type": "markdown",
   "id": "cc4ca160",
   "metadata": {},
   "source": [
    "# operators"
   ]
  },
  {
   "cell_type": "code",
   "execution_count": null,
   "id": "734e0bc8",
   "metadata": {},
   "outputs": [],
   "source": [
    "### addition  +\n",
    "### substraction  -\n",
    "### multiplication  *\n",
    "### division /\n",
    "### remainder %\n",
    "### floor division //\n",
    "### power  **\n"
   ]
  },
  {
   "cell_type": "code",
   "execution_count": 44,
   "id": "52fe79ea",
   "metadata": {},
   "outputs": [],
   "source": [
    "# arithmetic operator\n",
    "a = 4\n",
    "b = 3"
   ]
  },
  {
   "cell_type": "code",
   "execution_count": 36,
   "id": "6a6f399e",
   "metadata": {},
   "outputs": [
    {
     "data": {
      "text/plain": [
       "7"
      ]
     },
     "execution_count": 36,
     "metadata": {},
     "output_type": "execute_result"
    }
   ],
   "source": [
    "c= a+b\n",
    "c"
   ]
  },
  {
   "cell_type": "code",
   "execution_count": 37,
   "id": "cb1cfee9",
   "metadata": {},
   "outputs": [
    {
     "data": {
      "text/plain": [
       "1"
      ]
     },
     "execution_count": 37,
     "metadata": {},
     "output_type": "execute_result"
    }
   ],
   "source": [
    "z= a-b\n",
    "z"
   ]
  },
  {
   "cell_type": "code",
   "execution_count": 38,
   "id": "fbea5ab4",
   "metadata": {},
   "outputs": [
    {
     "data": {
      "text/plain": [
       "12"
      ]
     },
     "execution_count": 38,
     "metadata": {},
     "output_type": "execute_result"
    }
   ],
   "source": [
    "s= a*b\n",
    "s"
   ]
  },
  {
   "cell_type": "code",
   "execution_count": 39,
   "id": "40c6eb1f",
   "metadata": {},
   "outputs": [
    {
     "data": {
      "text/plain": [
       "1.3333333333333333"
      ]
     },
     "execution_count": 39,
     "metadata": {},
     "output_type": "execute_result"
    }
   ],
   "source": [
    "x= a/b\n",
    "x"
   ]
  },
  {
   "cell_type": "code",
   "execution_count": 40,
   "id": "ec4ce6be",
   "metadata": {},
   "outputs": [
    {
     "data": {
      "text/plain": [
       "64"
      ]
     },
     "execution_count": 40,
     "metadata": {},
     "output_type": "execute_result"
    }
   ],
   "source": [
    "r= a**b\n",
    "r"
   ]
  },
  {
   "cell_type": "code",
   "execution_count": 42,
   "id": "abd88216",
   "metadata": {},
   "outputs": [
    {
     "data": {
      "text/plain": [
       "1"
      ]
     },
     "execution_count": 42,
     "metadata": {},
     "output_type": "execute_result"
    }
   ],
   "source": [
    "w= a//b\n",
    "w"
   ]
  },
  {
   "cell_type": "code",
   "execution_count": 43,
   "id": "379fe908",
   "metadata": {},
   "outputs": [
    {
     "data": {
      "text/plain": [
       "1"
      ]
     },
     "execution_count": 43,
     "metadata": {},
     "output_type": "execute_result"
    }
   ],
   "source": [
    "q= a%b\n",
    "q"
   ]
  },
  {
   "cell_type": "markdown",
   "id": "139bddc1",
   "metadata": {},
   "source": [
    "# relational operators"
   ]
  },
  {
   "cell_type": "code",
   "execution_count": 45,
   "id": "a0b93e94",
   "metadata": {},
   "outputs": [],
   "source": [
    "a=34\n",
    "b=23"
   ]
  },
  {
   "cell_type": "code",
   "execution_count": 46,
   "id": "5c575515",
   "metadata": {},
   "outputs": [
    {
     "data": {
      "text/plain": [
       "False"
      ]
     },
     "execution_count": 46,
     "metadata": {},
     "output_type": "execute_result"
    }
   ],
   "source": [
    "a<b"
   ]
  },
  {
   "cell_type": "code",
   "execution_count": 47,
   "id": "01bf2cfa",
   "metadata": {},
   "outputs": [
    {
     "data": {
      "text/plain": [
       "True"
      ]
     },
     "execution_count": 47,
     "metadata": {},
     "output_type": "execute_result"
    }
   ],
   "source": [
    "a>b"
   ]
  },
  {
   "cell_type": "code",
   "execution_count": 48,
   "id": "e0bf1e60",
   "metadata": {},
   "outputs": [
    {
     "data": {
      "text/plain": [
       "False"
      ]
     },
     "execution_count": 48,
     "metadata": {},
     "output_type": "execute_result"
    }
   ],
   "source": [
    "a<=b"
   ]
  },
  {
   "cell_type": "code",
   "execution_count": 49,
   "id": "f2667795",
   "metadata": {},
   "outputs": [
    {
     "data": {
      "text/plain": [
       "True"
      ]
     },
     "execution_count": 49,
     "metadata": {},
     "output_type": "execute_result"
    }
   ],
   "source": [
    "a>=b"
   ]
  },
  {
   "cell_type": "code",
   "execution_count": 50,
   "id": "01e2189d",
   "metadata": {},
   "outputs": [
    {
     "data": {
      "text/plain": [
       "False"
      ]
     },
     "execution_count": 50,
     "metadata": {},
     "output_type": "execute_result"
    }
   ],
   "source": [
    "a==b"
   ]
  },
  {
   "cell_type": "code",
   "execution_count": 51,
   "id": "640e8743",
   "metadata": {},
   "outputs": [
    {
     "data": {
      "text/plain": [
       "True"
      ]
     },
     "execution_count": 51,
     "metadata": {},
     "output_type": "execute_result"
    }
   ],
   "source": [
    "a!=b"
   ]
  },
  {
   "cell_type": "markdown",
   "id": "70fc50c4",
   "metadata": {},
   "source": [
    "# logical operators"
   ]
  },
  {
   "cell_type": "code",
   "execution_count": null,
   "id": "22887e5e",
   "metadata": {},
   "outputs": [],
   "source": [
    "and\n",
    "or\n",
    "not\n"
   ]
  },
  {
   "cell_type": "code",
   "execution_count": 63,
   "id": "f977a579",
   "metadata": {},
   "outputs": [],
   "source": [
    "a=4\n",
    "b=5"
   ]
  },
  {
   "cell_type": "code",
   "execution_count": 64,
   "id": "85176644",
   "metadata": {},
   "outputs": [
    {
     "data": {
      "text/plain": [
       "5"
      ]
     },
     "execution_count": 64,
     "metadata": {},
     "output_type": "execute_result"
    }
   ],
   "source": [
    "a and b"
   ]
  },
  {
   "cell_type": "code",
   "execution_count": 65,
   "id": "8ba27f58",
   "metadata": {},
   "outputs": [
    {
     "data": {
      "text/plain": [
       "4"
      ]
     },
     "execution_count": 65,
     "metadata": {},
     "output_type": "execute_result"
    }
   ],
   "source": [
    "a or b"
   ]
  },
  {
   "cell_type": "code",
   "execution_count": 66,
   "id": "2cdcd4e4",
   "metadata": {},
   "outputs": [
    {
     "data": {
      "text/plain": [
       "False"
      ]
     },
     "execution_count": 66,
     "metadata": {},
     "output_type": "execute_result"
    }
   ],
   "source": [
    "not a"
   ]
  },
  {
   "cell_type": "code",
   "execution_count": 67,
   "id": "171167f1",
   "metadata": {},
   "outputs": [
    {
     "data": {
      "text/plain": [
       "4"
      ]
     },
     "execution_count": 67,
     "metadata": {},
     "output_type": "execute_result"
    }
   ],
   "source": [
    "a"
   ]
  },
  {
   "cell_type": "code",
   "execution_count": 68,
   "id": "d4b4831b",
   "metadata": {},
   "outputs": [
    {
     "data": {
      "text/plain": [
       "5"
      ]
     },
     "execution_count": 68,
     "metadata": {},
     "output_type": "execute_result"
    }
   ],
   "source": [
    "b"
   ]
  },
  {
   "cell_type": "code",
   "execution_count": 107,
   "id": "039a372e",
   "metadata": {},
   "outputs": [
    {
     "data": {
      "text/plain": [
       "True"
      ]
     },
     "execution_count": 107,
     "metadata": {},
     "output_type": "execute_result"
    }
   ],
   "source": [
    "d=8.1\n",
    "d>=8.0 and d<=9.1"
   ]
  },
  {
   "cell_type": "code",
   "execution_count": 108,
   "id": "59b29912",
   "metadata": {},
   "outputs": [
    {
     "data": {
      "text/plain": [
       "8.1"
      ]
     },
     "execution_count": 108,
     "metadata": {},
     "output_type": "execute_result"
    }
   ],
   "source": [
    "d"
   ]
  },
  {
   "cell_type": "code",
   "execution_count": 109,
   "id": "6a0e30e2",
   "metadata": {},
   "outputs": [
    {
     "data": {
      "text/plain": [
       "False"
      ]
     },
     "execution_count": 109,
     "metadata": {},
     "output_type": "execute_result"
    }
   ],
   "source": [
    "d>8.2"
   ]
  },
  {
   "cell_type": "code",
   "execution_count": 110,
   "id": "bce64d8f",
   "metadata": {},
   "outputs": [
    {
     "data": {
      "text/plain": [
       "True"
      ]
     },
     "execution_count": 110,
     "metadata": {},
     "output_type": "execute_result"
    }
   ],
   "source": [
    "d<8.2"
   ]
  },
  {
   "cell_type": "code",
   "execution_count": 111,
   "id": "b2dfb294",
   "metadata": {},
   "outputs": [
    {
     "data": {
      "text/plain": [
       "False"
      ]
     },
     "execution_count": 111,
     "metadata": {},
     "output_type": "execute_result"
    }
   ],
   "source": [
    "d>=8.2"
   ]
  },
  {
   "cell_type": "code",
   "execution_count": 112,
   "id": "6db41566",
   "metadata": {},
   "outputs": [
    {
     "data": {
      "text/plain": [
       "True"
      ]
     },
     "execution_count": 112,
     "metadata": {},
     "output_type": "execute_result"
    }
   ],
   "source": [
    "d<=8.2"
   ]
  },
  {
   "cell_type": "code",
   "execution_count": 113,
   "id": "f931f699",
   "metadata": {},
   "outputs": [
    {
     "data": {
      "text/plain": [
       "True"
      ]
     },
     "execution_count": 113,
     "metadata": {},
     "output_type": "execute_result"
    }
   ],
   "source": [
    "d>=8.1 and d<=9.0"
   ]
  },
  {
   "cell_type": "code",
   "execution_count": 114,
   "id": "d781ffc5",
   "metadata": {},
   "outputs": [
    {
     "data": {
      "text/plain": [
       "False"
      ]
     },
     "execution_count": 114,
     "metadata": {},
     "output_type": "execute_result"
    }
   ],
   "source": [
    "d>=9.0 and d<=10"
   ]
  },
  {
   "cell_type": "code",
   "execution_count": 115,
   "id": "2c816819",
   "metadata": {},
   "outputs": [
    {
     "data": {
      "text/plain": [
       "False"
      ]
     },
     "execution_count": 115,
     "metadata": {},
     "output_type": "execute_result"
    }
   ],
   "source": [
    "d>=7.1 and d<=8.0"
   ]
  },
  {
   "cell_type": "code",
   "execution_count": 116,
   "id": "c2f33bc9",
   "metadata": {},
   "outputs": [
    {
     "data": {
      "text/plain": [
       "False"
      ]
     },
     "execution_count": 116,
     "metadata": {},
     "output_type": "execute_result"
    }
   ],
   "source": [
    "d>=6.0 and d<=7.9"
   ]
  },
  {
   "cell_type": "code",
   "execution_count": 117,
   "id": "6321355f",
   "metadata": {},
   "outputs": [
    {
     "data": {
      "text/plain": [
       "False"
      ]
     },
     "execution_count": 117,
     "metadata": {},
     "output_type": "execute_result"
    }
   ],
   "source": [
    "d>=5.0 and d<=5.9"
   ]
  },
  {
   "cell_type": "code",
   "execution_count": 118,
   "id": "7a13cd04",
   "metadata": {},
   "outputs": [
    {
     "data": {
      "text/plain": [
       "True"
      ]
     },
     "execution_count": 118,
     "metadata": {},
     "output_type": "execute_result"
    }
   ],
   "source": [
    "d>=5.0 and d<=8.6"
   ]
  },
  {
   "cell_type": "code",
   "execution_count": 119,
   "id": "15e27922",
   "metadata": {},
   "outputs": [
    {
     "data": {
      "text/plain": [
       "True"
      ]
     },
     "execution_count": 119,
     "metadata": {},
     "output_type": "execute_result"
    }
   ],
   "source": [
    "d>=5.0 and d<=8.1"
   ]
  },
  {
   "cell_type": "code",
   "execution_count": 130,
   "id": "b77dfe32",
   "metadata": {},
   "outputs": [],
   "source": [
    "cgpa=8.6"
   ]
  },
  {
   "cell_type": "code",
   "execution_count": 131,
   "id": "2b3ccef2",
   "metadata": {},
   "outputs": [
    {
     "data": {
      "text/plain": [
       "True"
      ]
     },
     "execution_count": 131,
     "metadata": {},
     "output_type": "execute_result"
    }
   ],
   "source": [
    "cgpa>=8.0 and cgpa<=9.0  # A grade"
   ]
  },
  {
   "cell_type": "code",
   "execution_count": 132,
   "id": "76fd3291",
   "metadata": {},
   "outputs": [
    {
     "data": {
      "text/plain": [
       "False"
      ]
     },
     "execution_count": 132,
     "metadata": {},
     "output_type": "execute_result"
    }
   ],
   "source": [
    "cgpa>7.1 and cgpa<=8.0  # B grade"
   ]
  },
  {
   "cell_type": "code",
   "execution_count": 133,
   "id": "7f139b06",
   "metadata": {},
   "outputs": [
    {
     "data": {
      "text/plain": [
       "False"
      ]
     },
     "execution_count": 133,
     "metadata": {},
     "output_type": "execute_result"
    }
   ],
   "source": [
    "cgpa>6.1 and cgpa<=7.0 # C grade"
   ]
  },
  {
   "cell_type": "code",
   "execution_count": 134,
   "id": "d1c40283",
   "metadata": {},
   "outputs": [
    {
     "data": {
      "text/plain": [
       "False"
      ]
     },
     "execution_count": 134,
     "metadata": {},
     "output_type": "execute_result"
    }
   ],
   "source": [
    "cgpa>=5.1 and cgpa<=6.0 # D grade"
   ]
  },
  {
   "cell_type": "code",
   "execution_count": 135,
   "id": "628eb8c1",
   "metadata": {},
   "outputs": [
    {
     "data": {
      "text/plain": [
       "False"
      ]
     },
     "execution_count": 135,
     "metadata": {},
     "output_type": "execute_result"
    }
   ],
   "source": [
    "cgpa <=5.0  # Fail grade"
   ]
  },
  {
   "cell_type": "markdown",
   "id": "058704f5",
   "metadata": {},
   "source": [
    "# list"
   ]
  },
  {
   "cell_type": "code",
   "execution_count": 15,
   "id": "5364b24c",
   "metadata": {},
   "outputs": [
    {
     "data": {
      "text/plain": [
       "[300, 56.75, 'vivek', True]"
      ]
     },
     "execution_count": 15,
     "metadata": {},
     "output_type": "execute_result"
    }
   ],
   "source": [
    "#  list:it can be mutable(it value can be changing) \n",
    "# homogeneous list\n",
    "\n",
    "a = [300,56.75,\"vivek\",True]\n",
    "a"
   ]
  },
  {
   "cell_type": "code",
   "execution_count": 16,
   "id": "4b749211",
   "metadata": {},
   "outputs": [
    {
     "data": {
      "text/plain": [
       "list"
      ]
     },
     "execution_count": 16,
     "metadata": {},
     "output_type": "execute_result"
    }
   ],
   "source": [
    "type(a)"
   ]
  },
  {
   "cell_type": "code",
   "execution_count": 17,
   "id": "0e543b69",
   "metadata": {},
   "outputs": [
    {
     "data": {
      "text/plain": [
       "['data', True, 40.56, 450, 'hyderabad', 43, 65, 24.54]"
      ]
     },
     "execution_count": 17,
     "metadata": {},
     "output_type": "execute_result"
    }
   ],
   "source": [
    "v = ['data',True,40.56,450,'hyderabad',43,65,24.54]\n",
    "v"
   ]
  },
  {
   "cell_type": "code",
   "execution_count": 18,
   "id": "309814e4",
   "metadata": {},
   "outputs": [
    {
     "data": {
      "text/plain": [
       "'data'"
      ]
     },
     "execution_count": 18,
     "metadata": {},
     "output_type": "execute_result"
    }
   ],
   "source": [
    "# indexing\n",
    "\n",
    "v[0]"
   ]
  },
  {
   "cell_type": "code",
   "execution_count": 19,
   "id": "0d3592b6",
   "metadata": {},
   "outputs": [
    {
     "data": {
      "text/plain": [
       "True"
      ]
     },
     "execution_count": 19,
     "metadata": {},
     "output_type": "execute_result"
    }
   ],
   "source": [
    "v[1]"
   ]
  },
  {
   "cell_type": "code",
   "execution_count": 21,
   "id": "c22ec16c",
   "metadata": {},
   "outputs": [
    {
     "data": {
      "text/plain": [
       "[True, 40.56]"
      ]
     },
     "execution_count": 21,
     "metadata": {},
     "output_type": "execute_result"
    }
   ],
   "source": [
    "# slicing\n",
    "# here we have three points in slice\n",
    "#starting and ending and steps\n",
    "\n",
    "v[1 : 3]"
   ]
  },
  {
   "cell_type": "code",
   "execution_count": 22,
   "id": "3da5cc3d",
   "metadata": {},
   "outputs": [
    {
     "data": {
      "text/plain": [
       "['data', True, 40.56, 450, 'hyderabad', 43, 65, 24.54]"
      ]
     },
     "execution_count": 22,
     "metadata": {},
     "output_type": "execute_result"
    }
   ],
   "source": [
    "v"
   ]
  },
  {
   "cell_type": "code",
   "execution_count": 23,
   "id": "01da43bf",
   "metadata": {},
   "outputs": [
    {
     "data": {
      "text/plain": [
       "[True, 40.56, 450, 'hyderabad']"
      ]
     },
     "execution_count": 23,
     "metadata": {},
     "output_type": "execute_result"
    }
   ],
   "source": [
    "v[1:5]"
   ]
  },
  {
   "cell_type": "code",
   "execution_count": 24,
   "id": "00e25cf0",
   "metadata": {},
   "outputs": [
    {
     "data": {
      "text/plain": [
       "['data', 450, 65]"
      ]
     },
     "execution_count": 24,
     "metadata": {},
     "output_type": "execute_result"
    }
   ],
   "source": [
    "v[0::3]"
   ]
  },
  {
   "cell_type": "code",
   "execution_count": 25,
   "id": "c9f89160",
   "metadata": {},
   "outputs": [
    {
     "data": {
      "text/plain": [
       "['data', 40.56, 'hyderabad', 65]"
      ]
     },
     "execution_count": 25,
     "metadata": {},
     "output_type": "execute_result"
    }
   ],
   "source": [
    "# start : end : steps\n",
    "v[0:8:2]"
   ]
  },
  {
   "cell_type": "code",
   "execution_count": 28,
   "id": "69ab47ad",
   "metadata": {},
   "outputs": [
    {
     "data": {
      "text/plain": [
       "[43, 65]"
      ]
     },
     "execution_count": 28,
     "metadata": {},
     "output_type": "execute_result"
    }
   ],
   "source": [
    "# negative indexing\n",
    "v[-3:-1]"
   ]
  },
  {
   "cell_type": "code",
   "execution_count": 29,
   "id": "33fa66c0",
   "metadata": {},
   "outputs": [
    {
     "data": {
      "text/plain": [
       "['data', True, 40.56, 450, 'hyderabad', 43, 65, 24.54]"
      ]
     },
     "execution_count": 29,
     "metadata": {},
     "output_type": "execute_result"
    }
   ],
   "source": [
    "v"
   ]
  },
  {
   "cell_type": "code",
   "execution_count": 30,
   "id": "82dd9dc7",
   "metadata": {},
   "outputs": [
    {
     "data": {
      "text/plain": [
       "True"
      ]
     },
     "execution_count": 30,
     "metadata": {},
     "output_type": "execute_result"
    }
   ],
   "source": [
    "v[1]"
   ]
  },
  {
   "cell_type": "code",
   "execution_count": 31,
   "id": "01fa4b71",
   "metadata": {},
   "outputs": [
    {
     "data": {
      "text/plain": [
       "True"
      ]
     },
     "execution_count": 31,
     "metadata": {},
     "output_type": "execute_result"
    }
   ],
   "source": [
    "v[-7]"
   ]
  },
  {
   "cell_type": "code",
   "execution_count": 42,
   "id": "b95ecabf",
   "metadata": {},
   "outputs": [
    {
     "data": {
      "text/plain": [
       "['hyderabad', 450, 40.56, True]"
      ]
     },
     "execution_count": 42,
     "metadata": {},
     "output_type": "execute_result"
    }
   ],
   "source": [
    "v[-4:-8:-1]"
   ]
  },
  {
   "cell_type": "code",
   "execution_count": 39,
   "id": "6b9f1591",
   "metadata": {},
   "outputs": [
    {
     "data": {
      "text/plain": [
       "[65, 43, 'hyderabad', 450]"
      ]
     },
     "execution_count": 39,
     "metadata": {},
     "output_type": "execute_result"
    }
   ],
   "source": [
    "v[6:2:-1]"
   ]
  },
  {
   "cell_type": "code",
   "execution_count": 45,
   "id": "dab54b8e",
   "metadata": {},
   "outputs": [
    {
     "data": {
      "text/plain": [
       "[2, 'durga', 5.6, True, False, 4.33, 54]"
      ]
     },
     "execution_count": 45,
     "metadata": {},
     "output_type": "execute_result"
    }
   ],
   "source": [
    "# my own example on list\n",
    "\n",
    "r=[2,'durga',5.6,True,False,4.33,54]\n",
    "r"
   ]
  },
  {
   "cell_type": "code",
   "execution_count": 46,
   "id": "ed0791f5",
   "metadata": {},
   "outputs": [
    {
     "data": {
      "text/plain": [
       "5.6"
      ]
     },
     "execution_count": 46,
     "metadata": {},
     "output_type": "execute_result"
    }
   ],
   "source": [
    "r[2]"
   ]
  },
  {
   "cell_type": "code",
   "execution_count": 47,
   "id": "58567343",
   "metadata": {},
   "outputs": [
    {
     "data": {
      "text/plain": [
       "False"
      ]
     },
     "execution_count": 47,
     "metadata": {},
     "output_type": "execute_result"
    }
   ],
   "source": [
    "r[4]"
   ]
  },
  {
   "cell_type": "code",
   "execution_count": 48,
   "id": "54580440",
   "metadata": {},
   "outputs": [
    {
     "data": {
      "text/plain": [
       "[2, 'durga', 5.6, True]"
      ]
     },
     "execution_count": 48,
     "metadata": {},
     "output_type": "execute_result"
    }
   ],
   "source": [
    "r[0:4]"
   ]
  },
  {
   "cell_type": "code",
   "execution_count": 49,
   "id": "9b6d99d3",
   "metadata": {},
   "outputs": [
    {
     "data": {
      "text/plain": [
       "[4.33, False, True, 5.6]"
      ]
     },
     "execution_count": 49,
     "metadata": {},
     "output_type": "execute_result"
    }
   ],
   "source": [
    "r[-2:-6:-1]"
   ]
  },
  {
   "cell_type": "code",
   "execution_count": 50,
   "id": "74f7180e",
   "metadata": {},
   "outputs": [
    {
     "data": {
      "text/plain": [
       "[]"
      ]
     },
     "execution_count": 50,
     "metadata": {},
     "output_type": "execute_result"
    }
   ],
   "source": [
    "r[2:6:-1]"
   ]
  },
  {
   "cell_type": "code",
   "execution_count": 51,
   "id": "e9aec429",
   "metadata": {},
   "outputs": [
    {
     "data": {
      "text/plain": [
       "[5.6, True, False, 4.33]"
      ]
     },
     "execution_count": 51,
     "metadata": {},
     "output_type": "execute_result"
    }
   ],
   "source": [
    "r[2:6:1]"
   ]
  },
  {
   "cell_type": "code",
   "execution_count": 52,
   "id": "9942770b",
   "metadata": {},
   "outputs": [
    {
     "data": {
      "text/plain": [
       "[5.6, True]"
      ]
     },
     "execution_count": 52,
     "metadata": {},
     "output_type": "execute_result"
    }
   ],
   "source": [
    "r[2:4]"
   ]
  },
  {
   "cell_type": "code",
   "execution_count": 54,
   "id": "ec2558d2",
   "metadata": {},
   "outputs": [
    {
     "data": {
      "text/plain": [
       "[4.33, False, True]"
      ]
     },
     "execution_count": 54,
     "metadata": {},
     "output_type": "execute_result"
    }
   ],
   "source": [
    "r[-2:-5:-1]"
   ]
  },
  {
   "cell_type": "markdown",
   "id": "df16a80b",
   "metadata": {},
   "source": [
    "# collection in python :"
   ]
  },
  {
   "cell_type": "code",
   "execution_count": null,
   "id": "cae61b54",
   "metadata": {},
   "outputs": [],
   "source": [
    "there are four types of collection in python"
   ]
  },
  {
   "cell_type": "markdown",
   "id": "27633e00",
   "metadata": {},
   "source": [
    "#  list methods "
   ]
  },
  {
   "cell_type": "code",
   "execution_count": null,
   "id": "3a324260",
   "metadata": {},
   "outputs": [],
   "source": [
    "list is mutable. why means it can be change any where."
   ]
  },
  {
   "cell_type": "code",
   "execution_count": 55,
   "id": "6ed7296b",
   "metadata": {},
   "outputs": [],
   "source": [
    "# append\n",
    "# insert\n",
    "# extend\n",
    "# pop\n",
    "# remove\n",
    "# clear\n",
    "# count"
   ]
  },
  {
   "cell_type": "code",
   "execution_count": 58,
   "id": "a466892a",
   "metadata": {},
   "outputs": [],
   "source": [
    "r.append(4)"
   ]
  },
  {
   "cell_type": "code",
   "execution_count": 59,
   "id": "fcc9378b",
   "metadata": {},
   "outputs": [
    {
     "data": {
      "text/plain": [
       "[2, 'durga', 5.6, True, False, 4.33, 54, 4]"
      ]
     },
     "execution_count": 59,
     "metadata": {},
     "output_type": "execute_result"
    }
   ],
   "source": [
    "r"
   ]
  },
  {
   "cell_type": "code",
   "execution_count": 64,
   "id": "be230fdf",
   "metadata": {},
   "outputs": [
    {
     "ename": "ValueError",
     "evalue": "list.remove(x): x not in list",
     "output_type": "error",
     "traceback": [
      "\u001b[1;31m---------------------------------------------------------------------------\u001b[0m",
      "\u001b[1;31mValueError\u001b[0m                                Traceback (most recent call last)",
      "Cell \u001b[1;32mIn[64], line 1\u001b[0m\n\u001b[1;32m----> 1\u001b[0m r\u001b[38;5;241m.\u001b[39mremove(\u001b[38;5;241m4.33\u001b[39m)\n",
      "\u001b[1;31mValueError\u001b[0m: list.remove(x): x not in list"
     ]
    }
   ],
   "source": [
    "r.remove(4.33)"
   ]
  },
  {
   "cell_type": "code",
   "execution_count": 63,
   "id": "012c0155",
   "metadata": {},
   "outputs": [
    {
     "data": {
      "text/plain": [
       "[2, 'durga', 5.6, True, False, 54, 4]"
      ]
     },
     "execution_count": 63,
     "metadata": {},
     "output_type": "execute_result"
    }
   ],
   "source": [
    "r"
   ]
  },
  {
   "cell_type": "code",
   "execution_count": 65,
   "id": "e3719d6b",
   "metadata": {},
   "outputs": [
    {
     "data": {
      "text/plain": [
       "54"
      ]
     },
     "execution_count": 65,
     "metadata": {},
     "output_type": "execute_result"
    }
   ],
   "source": [
    "r.pop(5)"
   ]
  },
  {
   "cell_type": "code",
   "execution_count": 66,
   "id": "4929c433",
   "metadata": {},
   "outputs": [
    {
     "data": {
      "text/plain": [
       "[2, 'durga', 5.6, True, False, 4]"
      ]
     },
     "execution_count": 66,
     "metadata": {},
     "output_type": "execute_result"
    }
   ],
   "source": [
    "r"
   ]
  },
  {
   "cell_type": "code",
   "execution_count": 67,
   "id": "4c9a2a47",
   "metadata": {},
   "outputs": [],
   "source": [
    "r.append(4)"
   ]
  },
  {
   "cell_type": "code",
   "execution_count": 68,
   "id": "31b5daa1",
   "metadata": {},
   "outputs": [
    {
     "data": {
      "text/plain": [
       "[2, 'durga', 5.6, True, False, 4, 4]"
      ]
     },
     "execution_count": 68,
     "metadata": {},
     "output_type": "execute_result"
    }
   ],
   "source": [
    "r"
   ]
  },
  {
   "cell_type": "code",
   "execution_count": 69,
   "id": "0c21e487",
   "metadata": {},
   "outputs": [
    {
     "data": {
      "text/plain": [
       "4"
      ]
     },
     "execution_count": 69,
     "metadata": {},
     "output_type": "execute_result"
    }
   ],
   "source": [
    "r.pop(6)"
   ]
  },
  {
   "cell_type": "code",
   "execution_count": 70,
   "id": "cf9299f0",
   "metadata": {},
   "outputs": [
    {
     "data": {
      "text/plain": [
       "[2, 'durga', 5.6, True, False, 4]"
      ]
     },
     "execution_count": 70,
     "metadata": {},
     "output_type": "execute_result"
    }
   ],
   "source": [
    "r"
   ]
  },
  {
   "cell_type": "code",
   "execution_count": 71,
   "id": "9cf174c3",
   "metadata": {},
   "outputs": [],
   "source": [
    "r.clear()"
   ]
  },
  {
   "cell_type": "code",
   "execution_count": 72,
   "id": "32304ebe",
   "metadata": {},
   "outputs": [
    {
     "data": {
      "text/plain": [
       "[]"
      ]
     },
     "execution_count": 72,
     "metadata": {},
     "output_type": "execute_result"
    }
   ],
   "source": [
    "r"
   ]
  },
  {
   "cell_type": "code",
   "execution_count": 73,
   "id": "9c10a7f5",
   "metadata": {},
   "outputs": [],
   "source": [
    "r.append(all)"
   ]
  },
  {
   "cell_type": "code",
   "execution_count": 74,
   "id": "8b69d459",
   "metadata": {},
   "outputs": [
    {
     "data": {
      "text/plain": [
       "[<function all(iterable, /)>]"
      ]
     },
     "execution_count": 74,
     "metadata": {},
     "output_type": "execute_result"
    }
   ],
   "source": [
    "r"
   ]
  },
  {
   "cell_type": "code",
   "execution_count": 75,
   "id": "d2a10c65",
   "metadata": {},
   "outputs": [
    {
     "data": {
      "text/plain": [
       "list"
      ]
     },
     "execution_count": 75,
     "metadata": {},
     "output_type": "execute_result"
    }
   ],
   "source": [
    "type(r)"
   ]
  },
  {
   "cell_type": "code",
   "execution_count": 77,
   "id": "4d07f205",
   "metadata": {},
   "outputs": [
    {
     "ename": "NameError",
     "evalue": "name 'c' is not defined",
     "output_type": "error",
     "traceback": [
      "\u001b[1;31m---------------------------------------------------------------------------\u001b[0m",
      "\u001b[1;31mNameError\u001b[0m                                 Traceback (most recent call last)",
      "Cell \u001b[1;32mIn[77], line 1\u001b[0m\n\u001b[1;32m----> 1\u001b[0m \u001b[38;5;28;01mdel\u001b[39;00m c\n\u001b[0;32m      2\u001b[0m c\n",
      "\u001b[1;31mNameError\u001b[0m: name 'c' is not defined"
     ]
    }
   ],
   "source": [
    "del c\n",
    "c"
   ]
  },
  {
   "cell_type": "code",
   "execution_count": 85,
   "id": "826fb51f",
   "metadata": {},
   "outputs": [
    {
     "data": {
      "text/plain": [
       "['vivek', 5, 8.5]"
      ]
     },
     "execution_count": 85,
     "metadata": {},
     "output_type": "execute_result"
    }
   ],
   "source": [
    "r=['vivek',5,8.5]\n",
    "r"
   ]
  },
  {
   "cell_type": "raw",
   "id": "5c01f542",
   "metadata": {},
   "source": []
  },
  {
   "cell_type": "code",
   "execution_count": 86,
   "id": "19bc5fe7",
   "metadata": {},
   "outputs": [
    {
     "data": {
      "text/plain": [
       "['vivek', 5, 8.5]"
      ]
     },
     "execution_count": 86,
     "metadata": {},
     "output_type": "execute_result"
    }
   ],
   "source": [
    "r"
   ]
  },
  {
   "cell_type": "code",
   "execution_count": 88,
   "id": "2e845d97",
   "metadata": {},
   "outputs": [
    {
     "data": {
      "text/plain": [
       "1"
      ]
     },
     "execution_count": 88,
     "metadata": {},
     "output_type": "execute_result"
    }
   ],
   "source": [
    "r.count(5)"
   ]
  },
  {
   "cell_type": "code",
   "execution_count": 90,
   "id": "cfe26e90",
   "metadata": {},
   "outputs": [
    {
     "data": {
      "text/plain": [
       "['vivek', 5, 8.5, 5, 'durga']"
      ]
     },
     "execution_count": 90,
     "metadata": {},
     "output_type": "execute_result"
    }
   ],
   "source": [
    "r.extend([5,'durga'])\n",
    "r"
   ]
  },
  {
   "cell_type": "code",
   "execution_count": 93,
   "id": "374b5fa7",
   "metadata": {},
   "outputs": [
    {
     "data": {
      "text/plain": [
       "['vivek', 5, 8.5, 5, 'durga', 2, 2]"
      ]
     },
     "execution_count": 93,
     "metadata": {},
     "output_type": "execute_result"
    }
   ],
   "source": [
    "r.insert(6,2)\n",
    "r"
   ]
  },
  {
   "cell_type": "markdown",
   "id": "488afa02",
   "metadata": {},
   "source": [
    "# tuples"
   ]
  },
  {
   "cell_type": "code",
   "execution_count": null,
   "id": "f58d76cd",
   "metadata": {},
   "outputs": [],
   "source": [
    "# tuple is immutable"
   ]
  },
  {
   "cell_type": "code",
   "execution_count": 2,
   "id": "ef85cc33",
   "metadata": {},
   "outputs": [
    {
     "data": {
      "text/plain": [
       "('vivek', 3, 4.5)"
      ]
     },
     "execution_count": 2,
     "metadata": {},
     "output_type": "execute_result"
    }
   ],
   "source": [
    "x=('vivek',3,4.5)\n",
    "x"
   ]
  },
  {
   "cell_type": "code",
   "execution_count": 3,
   "id": "47b0714f",
   "metadata": {},
   "outputs": [
    {
     "data": {
      "text/plain": [
       "tuple"
      ]
     },
     "execution_count": 3,
     "metadata": {},
     "output_type": "execute_result"
    }
   ],
   "source": [
    "type(x)"
   ]
  },
  {
   "cell_type": "code",
   "execution_count": 4,
   "id": "87d0d626",
   "metadata": {},
   "outputs": [
    {
     "data": {
      "text/plain": [
       "(3,)"
      ]
     },
     "execution_count": 4,
     "metadata": {},
     "output_type": "execute_result"
    }
   ],
   "source": [
    "x[1:2]"
   ]
  },
  {
   "cell_type": "code",
   "execution_count": 5,
   "id": "2fb9c6b8",
   "metadata": {},
   "outputs": [
    {
     "data": {
      "text/plain": [
       "3"
      ]
     },
     "execution_count": 5,
     "metadata": {},
     "output_type": "execute_result"
    }
   ],
   "source": [
    "x[1]"
   ]
  },
  {
   "cell_type": "code",
   "execution_count": 6,
   "id": "c443bb4d",
   "metadata": {},
   "outputs": [
    {
     "data": {
      "text/plain": [
       "'vivek'"
      ]
     },
     "execution_count": 6,
     "metadata": {},
     "output_type": "execute_result"
    }
   ],
   "source": [
    "x[0]"
   ]
  },
  {
   "cell_type": "code",
   "execution_count": 7,
   "id": "43cbd8f4",
   "metadata": {},
   "outputs": [
    {
     "data": {
      "text/plain": [
       "4.5"
      ]
     },
     "execution_count": 7,
     "metadata": {},
     "output_type": "execute_result"
    }
   ],
   "source": [
    "x[2]"
   ]
  },
  {
   "cell_type": "code",
   "execution_count": 8,
   "id": "9db0d840",
   "metadata": {},
   "outputs": [
    {
     "data": {
      "text/plain": [
       "('vivek', 3, 4.5)"
      ]
     },
     "execution_count": 8,
     "metadata": {},
     "output_type": "execute_result"
    }
   ],
   "source": [
    "x[0:3]"
   ]
  },
  {
   "cell_type": "code",
   "execution_count": 9,
   "id": "33a2042b",
   "metadata": {},
   "outputs": [
    {
     "data": {
      "text/plain": [
       "1"
      ]
     },
     "execution_count": 9,
     "metadata": {},
     "output_type": "execute_result"
    }
   ],
   "source": [
    "x.count(4.5)"
   ]
  },
  {
   "cell_type": "code",
   "execution_count": 10,
   "id": "abbe91d5",
   "metadata": {},
   "outputs": [
    {
     "data": {
      "text/plain": [
       "1"
      ]
     },
     "execution_count": 10,
     "metadata": {},
     "output_type": "execute_result"
    }
   ],
   "source": [
    "x.index(3)"
   ]
  },
  {
   "cell_type": "code",
   "execution_count": 16,
   "id": "27af529d",
   "metadata": {},
   "outputs": [
    {
     "data": {
      "text/plain": [
       "3"
      ]
     },
     "execution_count": 16,
     "metadata": {},
     "output_type": "execute_result"
    }
   ],
   "source": [
    "len(x)"
   ]
  },
  {
   "cell_type": "markdown",
   "id": "ba20e90d",
   "metadata": {},
   "source": [
    "# set"
   ]
  },
  {
   "cell_type": "code",
   "execution_count": 2,
   "id": "eaaf5604",
   "metadata": {},
   "outputs": [
    {
     "data": {
      "text/plain": [
       "{32, 33, 34, 43, 45, 56, 400, 678}"
      ]
     },
     "execution_count": 2,
     "metadata": {},
     "output_type": "execute_result"
    }
   ],
   "source": [
    "s={45,32,400,56,34,33,43,34,34,678}\n",
    "s"
   ]
  },
  {
   "cell_type": "code",
   "execution_count": 14,
   "id": "35f85cc7",
   "metadata": {},
   "outputs": [
    {
     "data": {
      "text/plain": [
       "set"
      ]
     },
     "execution_count": 14,
     "metadata": {},
     "output_type": "execute_result"
    }
   ],
   "source": [
    "type(s)"
   ]
  },
  {
   "cell_type": "code",
   "execution_count": 15,
   "id": "a7d81021",
   "metadata": {},
   "outputs": [
    {
     "data": {
      "text/plain": [
       "8"
      ]
     },
     "execution_count": 15,
     "metadata": {},
     "output_type": "execute_result"
    }
   ],
   "source": [
    "len(s)"
   ]
  },
  {
   "cell_type": "code",
   "execution_count": 4,
   "id": "e7709fbd",
   "metadata": {},
   "outputs": [
    {
     "data": {
      "text/plain": [
       "{3, 32, 33, 34, 43, 45, 56, 400, 678}"
      ]
     },
     "execution_count": 4,
     "metadata": {},
     "output_type": "execute_result"
    }
   ],
   "source": [
    "s.add(3)\n",
    "s"
   ]
  },
  {
   "cell_type": "code",
   "execution_count": 5,
   "id": "8afc4f14",
   "metadata": {},
   "outputs": [],
   "source": [
    "s.remove(678)"
   ]
  },
  {
   "cell_type": "code",
   "execution_count": 6,
   "id": "5154a752",
   "metadata": {},
   "outputs": [
    {
     "data": {
      "text/plain": [
       "{3, 32, 33, 34, 43, 45, 56, 400}"
      ]
     },
     "execution_count": 6,
     "metadata": {},
     "output_type": "execute_result"
    }
   ],
   "source": [
    "s"
   ]
  },
  {
   "cell_type": "code",
   "execution_count": 7,
   "id": "33933a85",
   "metadata": {},
   "outputs": [
    {
     "data": {
      "text/plain": [
       "{3, 4}"
      ]
     },
     "execution_count": 7,
     "metadata": {},
     "output_type": "execute_result"
    }
   ],
   "source": [
    "y={3,4}\n",
    "y"
   ]
  },
  {
   "cell_type": "code",
   "execution_count": 8,
   "id": "03da73ce",
   "metadata": {},
   "outputs": [
    {
     "data": {
      "text/plain": [
       "{3, 4, 32, 33, 34, 43, 45, 56, 400}"
      ]
     },
     "execution_count": 8,
     "metadata": {},
     "output_type": "execute_result"
    }
   ],
   "source": [
    "s.union(y)"
   ]
  },
  {
   "cell_type": "code",
   "execution_count": 9,
   "id": "0c23c533",
   "metadata": {},
   "outputs": [
    {
     "data": {
      "text/plain": [
       "{32, 33, 34, 43, 45, 56, 400}"
      ]
     },
     "execution_count": 9,
     "metadata": {},
     "output_type": "execute_result"
    }
   ],
   "source": [
    "s.difference(y)"
   ]
  },
  {
   "cell_type": "code",
   "execution_count": 10,
   "id": "d190e95e",
   "metadata": {},
   "outputs": [
    {
     "data": {
      "text/plain": [
       "{3}"
      ]
     },
     "execution_count": 10,
     "metadata": {},
     "output_type": "execute_result"
    }
   ],
   "source": [
    "s.intersection(y)"
   ]
  },
  {
   "cell_type": "code",
   "execution_count": 11,
   "id": "3ed9d459",
   "metadata": {},
   "outputs": [
    {
     "data": {
      "text/plain": [
       "{4}"
      ]
     },
     "execution_count": 11,
     "metadata": {},
     "output_type": "execute_result"
    }
   ],
   "source": [
    "y.difference(s)"
   ]
  },
  {
   "cell_type": "markdown",
   "id": "df018014",
   "metadata": {},
   "source": [
    "# dictionary"
   ]
  },
  {
   "cell_type": "code",
   "execution_count": null,
   "id": "b8535bc6",
   "metadata": {},
   "outputs": [],
   "source": [
    "in dictionary we use the to store the value is keys:value pairs,in no sql database also store the value in keys:value pairs. it is json format."
   ]
  },
  {
   "cell_type": "code",
   "execution_count": 1,
   "id": "8dda5aff",
   "metadata": {},
   "outputs": [
    {
     "data": {
      "text/plain": [
       "{'name': 'vivek'}"
      ]
     },
     "execution_count": 1,
     "metadata": {},
     "output_type": "execute_result"
    }
   ],
   "source": [
    "e={\"name\":\"vivek\"}\n",
    "e"
   ]
  },
  {
   "cell_type": "code",
   "execution_count": 2,
   "id": "bbc9ec36",
   "metadata": {},
   "outputs": [
    {
     "data": {
      "text/plain": [
       "dict"
      ]
     },
     "execution_count": 2,
     "metadata": {},
     "output_type": "execute_result"
    }
   ],
   "source": [
    "type(e)"
   ]
  },
  {
   "cell_type": "code",
   "execution_count": 52,
   "id": "45d05f03",
   "metadata": {},
   "outputs": [
    {
     "data": {
      "text/plain": [
       "{100: 3, 45: 4, 4: 3, 5: [3, 22, 56]}"
      ]
     },
     "execution_count": 52,
     "metadata": {},
     "output_type": "execute_result"
    }
   ],
   "source": [
    "e={100:3,45:4,4:3,5:[3,22,56]}\n",
    "e"
   ]
  },
  {
   "cell_type": "code",
   "execution_count": 6,
   "id": "a4afabdf",
   "metadata": {},
   "outputs": [
    {
     "data": {
      "text/plain": [
       "3"
      ]
     },
     "execution_count": 6,
     "metadata": {},
     "output_type": "execute_result"
    }
   ],
   "source": [
    "e[100]"
   ]
  },
  {
   "cell_type": "code",
   "execution_count": 8,
   "id": "4b157b5b",
   "metadata": {},
   "outputs": [
    {
     "data": {
      "text/plain": [
       "{100: 3, 45: 4, 4: 3, 5: 2}"
      ]
     },
     "execution_count": 8,
     "metadata": {},
     "output_type": "execute_result"
    }
   ],
   "source": [
    "e"
   ]
  },
  {
   "cell_type": "code",
   "execution_count": 13,
   "id": "901e4b8d",
   "metadata": {},
   "outputs": [
    {
     "data": {
      "text/plain": [
       "{100: 32, 45: 4, 4: 3, 5: 2}"
      ]
     },
     "execution_count": 13,
     "metadata": {},
     "output_type": "execute_result"
    }
   ],
   "source": [
    "e[100]=32\n",
    "e.update({})\n",
    "e"
   ]
  },
  {
   "cell_type": "code",
   "execution_count": 14,
   "id": "49f0f4ab",
   "metadata": {},
   "outputs": [
    {
     "data": {
      "text/plain": [
       "dict_keys([100, 45, 4, 5])"
      ]
     },
     "execution_count": 14,
     "metadata": {},
     "output_type": "execute_result"
    }
   ],
   "source": [
    "e.keys()"
   ]
  },
  {
   "cell_type": "code",
   "execution_count": 15,
   "id": "7d34a148",
   "metadata": {},
   "outputs": [
    {
     "data": {
      "text/plain": [
       "dict_values([32, 4, 3, 2])"
      ]
     },
     "execution_count": 15,
     "metadata": {},
     "output_type": "execute_result"
    }
   ],
   "source": [
    "e.values()"
   ]
  },
  {
   "cell_type": "code",
   "execution_count": 16,
   "id": "e4b8f6cf",
   "metadata": {},
   "outputs": [
    {
     "data": {
      "text/plain": [
       "dict_items([(100, 32), (45, 4), (4, 3), (5, 2)])"
      ]
     },
     "execution_count": 16,
     "metadata": {},
     "output_type": "execute_result"
    }
   ],
   "source": [
    "e.items()"
   ]
  },
  {
   "cell_type": "code",
   "execution_count": 17,
   "id": "57c0d1c5",
   "metadata": {},
   "outputs": [
    {
     "data": {
      "text/plain": [
       "{100: 'india', 45: 4, 4: 3, 5: 2}"
      ]
     },
     "execution_count": 17,
     "metadata": {},
     "output_type": "execute_result"
    }
   ],
   "source": [
    "e.update({100:'india'})\n",
    "e"
   ]
  },
  {
   "cell_type": "code",
   "execution_count": 18,
   "id": "ee5b964d",
   "metadata": {},
   "outputs": [
    {
     "data": {
      "text/plain": [
       "{100: 'india', 45: 4, 4: 3, 5: 2}"
      ]
     },
     "execution_count": 18,
     "metadata": {},
     "output_type": "execute_result"
    }
   ],
   "source": [
    "e"
   ]
  },
  {
   "cell_type": "code",
   "execution_count": 19,
   "id": "155d9cbf",
   "metadata": {},
   "outputs": [
    {
     "data": {
      "text/plain": [
       "{100: 'india', 45: 4, 4: 3, 5: 2, 104: 4000}"
      ]
     },
     "execution_count": 19,
     "metadata": {},
     "output_type": "execute_result"
    }
   ],
   "source": [
    "e[104] = 4000\n",
    "e"
   ]
  },
  {
   "cell_type": "code",
   "execution_count": 20,
   "id": "95ac1650",
   "metadata": {},
   "outputs": [],
   "source": [
    "del e[4]"
   ]
  },
  {
   "cell_type": "code",
   "execution_count": 21,
   "id": "cc79bab8",
   "metadata": {},
   "outputs": [
    {
     "data": {
      "text/plain": [
       "{100: 'india', 45: 4, 5: 2, 104: 4000}"
      ]
     },
     "execution_count": 21,
     "metadata": {},
     "output_type": "execute_result"
    }
   ],
   "source": [
    "e"
   ]
  },
  {
   "cell_type": "code",
   "execution_count": 22,
   "id": "08c68f6d",
   "metadata": {},
   "outputs": [
    {
     "data": {
      "text/plain": [
       "{100: 'india', 45: 'vivek', 5: 2, 104: 4000}"
      ]
     },
     "execution_count": 22,
     "metadata": {},
     "output_type": "execute_result"
    }
   ],
   "source": [
    "e.update({45:\"vivek\"})\n",
    "e"
   ]
  },
  {
   "cell_type": "code",
   "execution_count": 24,
   "id": "aaffdfe6",
   "metadata": {},
   "outputs": [
    {
     "data": {
      "text/plain": [
       "'vivek'"
      ]
     },
     "execution_count": 24,
     "metadata": {},
     "output_type": "execute_result"
    }
   ],
   "source": [
    "e.get(45)\n"
   ]
  },
  {
   "cell_type": "code",
   "execution_count": 29,
   "id": "df6617a9",
   "metadata": {},
   "outputs": [
    {
     "data": {
      "text/plain": [
       "{100: 'india', 45: 'vivek', 5: 2, 104: 4000}"
      ]
     },
     "execution_count": 29,
     "metadata": {},
     "output_type": "execute_result"
    }
   ],
   "source": [
    "e"
   ]
  },
  {
   "cell_type": "code",
   "execution_count": 31,
   "id": "c402747e",
   "metadata": {},
   "outputs": [
    {
     "data": {
      "text/plain": [
       "str"
      ]
     },
     "execution_count": 31,
     "metadata": {},
     "output_type": "execute_result"
    }
   ],
   "source": [
    "type(e[100])"
   ]
  },
  {
   "cell_type": "markdown",
   "id": "2887d7a1",
   "metadata": {},
   "source": [
    "# string methods"
   ]
  },
  {
   "cell_type": "code",
   "execution_count": 32,
   "id": "2a52eb8a",
   "metadata": {},
   "outputs": [
    {
     "data": {
      "text/plain": [
       "'india'"
      ]
     },
     "execution_count": 32,
     "metadata": {},
     "output_type": "execute_result"
    }
   ],
   "source": [
    "a=\"india\"\n",
    "a"
   ]
  },
  {
   "cell_type": "code",
   "execution_count": 33,
   "id": "b5644311",
   "metadata": {
    "scrolled": true
   },
   "outputs": [
    {
     "data": {
      "text/plain": [
       "'INDIA'"
      ]
     },
     "execution_count": 33,
     "metadata": {},
     "output_type": "execute_result"
    }
   ],
   "source": [
    "a.upper()"
   ]
  },
  {
   "cell_type": "code",
   "execution_count": 34,
   "id": "910393da",
   "metadata": {},
   "outputs": [
    {
     "data": {
      "text/plain": [
       "'india'"
      ]
     },
     "execution_count": 34,
     "metadata": {},
     "output_type": "execute_result"
    }
   ],
   "source": [
    "a.lower()"
   ]
  },
  {
   "cell_type": "code",
   "execution_count": 38,
   "id": "a30541d3",
   "metadata": {},
   "outputs": [
    {
     "data": {
      "text/plain": [
       "'india'"
      ]
     },
     "execution_count": 38,
     "metadata": {},
     "output_type": "execute_result"
    }
   ],
   "source": [
    "e[100].lower()"
   ]
  },
  {
   "cell_type": "code",
   "execution_count": 39,
   "id": "78a50385",
   "metadata": {},
   "outputs": [
    {
     "data": {
      "text/plain": [
       "False"
      ]
     },
     "execution_count": 39,
     "metadata": {},
     "output_type": "execute_result"
    }
   ],
   "source": [
    "a.isdigit()"
   ]
  },
  {
   "cell_type": "code",
   "execution_count": null,
   "id": "a21b8ec4",
   "metadata": {},
   "outputs": [],
   "source": [
    "f"
   ]
  },
  {
   "cell_type": "code",
   "execution_count": 47,
   "id": "f5844efd",
   "metadata": {},
   "outputs": [
    {
     "data": {
      "text/plain": [
       "{100: 2, 102: 'vivek', 104: 'kasi', 67: 8, 69: [908, 89, 90]}"
      ]
     },
     "execution_count": 47,
     "metadata": {},
     "output_type": "execute_result"
    }
   ],
   "source": [
    "{100:2,\n",
    " 102:\"vivek\",\n",
    " 104:\"kasi\",\n",
    " 67:8,\n",
    " 69:[908,89,90]\n",
    "}"
   ]
  },
  {
   "cell_type": "code",
   "execution_count": 43,
   "id": "942d59dd",
   "metadata": {},
   "outputs": [
    {
     "data": {
      "text/plain": [
       "'india'"
      ]
     },
     "execution_count": 43,
     "metadata": {},
     "output_type": "execute_result"
    }
   ],
   "source": [
    "a"
   ]
  },
  {
   "cell_type": "code",
   "execution_count": 44,
   "id": "a44a36af",
   "metadata": {},
   "outputs": [
    {
     "data": {
      "text/plain": [
       "{}"
      ]
     },
     "execution_count": 44,
     "metadata": {},
     "output_type": "execute_result"
    }
   ],
   "source": [
    "{}"
   ]
  },
  {
   "cell_type": "code",
   "execution_count": 54,
   "id": "3136950c",
   "metadata": {},
   "outputs": [
    {
     "data": {
      "text/plain": [
       "1"
      ]
     },
     "execution_count": 54,
     "metadata": {},
     "output_type": "execute_result"
    }
   ],
   "source": [
    "e[5].count(56)"
   ]
  },
  {
   "cell_type": "code",
   "execution_count": 56,
   "id": "aa98f50a",
   "metadata": {},
   "outputs": [],
   "source": [
    "e[5].insert(2,47)"
   ]
  },
  {
   "cell_type": "code",
   "execution_count": 58,
   "id": "77652812",
   "metadata": {},
   "outputs": [],
   "source": [
    "e.update({4:(6,4,33,22,443)})"
   ]
  },
  {
   "cell_type": "code",
   "execution_count": 59,
   "id": "cc32d9f7",
   "metadata": {},
   "outputs": [
    {
     "data": {
      "text/plain": [
       "{100: 3, 45: 4, 4: (6, 4, 33, 22, 443), 5: [3, 22, 47, 47, 56]}"
      ]
     },
     "execution_count": 59,
     "metadata": {},
     "output_type": "execute_result"
    }
   ],
   "source": [
    "e"
   ]
  },
  {
   "cell_type": "code",
   "execution_count": 62,
   "id": "30a29eff",
   "metadata": {},
   "outputs": [],
   "source": [
    "e.update({4:(\"vivek\",3,2)})"
   ]
  },
  {
   "cell_type": "code",
   "execution_count": 63,
   "id": "5664776f",
   "metadata": {},
   "outputs": [
    {
     "data": {
      "text/plain": [
       "{100: 3, 45: 4, 4: ('vivek', 3, 2), 5: [3, 22, 47, 47, 56]}"
      ]
     },
     "execution_count": 63,
     "metadata": {},
     "output_type": "execute_result"
    }
   ],
   "source": [
    "e"
   ]
  },
  {
   "cell_type": "code",
   "execution_count": 3,
   "id": "1aee3f3c",
   "metadata": {},
   "outputs": [
    {
     "ename": "NameError",
     "evalue": "name 'e' is not defined",
     "output_type": "error",
     "traceback": [
      "\u001b[1;31m---------------------------------------------------------------------------\u001b[0m",
      "\u001b[1;31mNameError\u001b[0m                                 Traceback (most recent call last)",
      "Cell \u001b[1;32mIn[3], line 1\u001b[0m\n\u001b[1;32m----> 1\u001b[0m e[\u001b[38;5;241m100\u001b[39m]\u001b[38;5;241m=\u001b[39m{\u001b[38;5;124m'\u001b[39m\u001b[38;5;124mt\u001b[39m\u001b[38;5;124m'\u001b[39m:{\u001b[38;5;241m4\u001b[39m,\u001b[38;5;241m33\u001b[39m,\u001b[38;5;241m22\u001b[39m},\u001b[38;5;124m'\u001b[39m\u001b[38;5;124mw\u001b[39m\u001b[38;5;124m'\u001b[39m:{\u001b[38;5;241m43\u001b[39m,\u001b[38;5;241m22.4\u001b[39m,\u001b[38;5;241m11\u001b[39m},\u001b[38;5;124m'\u001b[39m\u001b[38;5;124mr\u001b[39m\u001b[38;5;124m'\u001b[39m:{\u001b[38;5;241m41\u001b[39m,\u001b[38;5;241m3\u001b[39m,\u001b[38;5;241m55\u001b[39m,\u001b[38;5;241m30\u001b[39m}}\n\u001b[0;32m      2\u001b[0m e\n",
      "\u001b[1;31mNameError\u001b[0m: name 'e' is not defined"
     ]
    }
   ],
   "source": [
    "e[100]={'t':{4,33,22},'w':{43,22.4,11},'r':{41,3,55,30}}\n",
    "e"
   ]
  },
  {
   "cell_type": "code",
   "execution_count": 81,
   "id": "4dcb5190",
   "metadata": {},
   "outputs": [
    {
     "data": {
      "text/plain": [
       "{100: {'t': {4, 22, 33}, 'w': {11, 22.4, 43}, 'r': {3, 30, 41, 55}},\n",
       " 45: {2: {4, 7, 9}, 8: {567, 778, 987}, 5: {880, 897, 5678}},\n",
       " 4: ('vivek', 3, 2),\n",
       " 5: [3, 22, 47, 47, 56]}"
      ]
     },
     "execution_count": 81,
     "metadata": {},
     "output_type": "execute_result"
    }
   ],
   "source": [
    "e"
   ]
  },
  {
   "cell_type": "code",
   "execution_count": 82,
   "id": "1574d8e8",
   "metadata": {},
   "outputs": [
    {
     "data": {
      "text/plain": [
       "{100: {'t': {4, 22, 33}, 'w': {11, 22.4, 43}, 'r': {3, 30, 41, 55}},\n",
       " 45: {2: {4, 7, 9}, 8: {567, 778, 987}, 5: {880, 897, 5678}},\n",
       " 4: ('vivek', 3, 2),\n",
       " 5: [3, 22, 47, 47, 56]}"
      ]
     },
     "execution_count": 82,
     "metadata": {},
     "output_type": "execute_result"
    }
   ],
   "source": [
    "e[45]={2:{4,9,7},8:{778,987,567},5:{880,897,5678}}\n",
    "e"
   ]
  },
  {
   "cell_type": "code",
   "execution_count": 83,
   "id": "70129627",
   "metadata": {},
   "outputs": [
    {
     "data": {
      "text/plain": [
       "{100: {'t': {4, 22, 33}, 'w': {11, 22.4, 43}, 'r': {3, 30, 41, 55}},\n",
       " 45: {2: {4, 7, 9}, 8: {567, 778, 987}, 5: {880, 897, 5678}},\n",
       " 4: ('vivek', 3, 2),\n",
       " 5: [3, 22, 47, 47, 56]}"
      ]
     },
     "execution_count": 83,
     "metadata": {},
     "output_type": "execute_result"
    }
   ],
   "source": [
    "e"
   ]
  },
  {
   "cell_type": "code",
   "execution_count": 84,
   "id": "a22e39bc",
   "metadata": {},
   "outputs": [
    {
     "data": {
      "text/plain": [
       "{'t': {4, 22, 33}, 'w': {11, 22.4, 43}, 'r': {3, 30, 41, 55}}"
      ]
     },
     "execution_count": 84,
     "metadata": {},
     "output_type": "execute_result"
    }
   ],
   "source": [
    "e[100]"
   ]
  },
  {
   "cell_type": "code",
   "execution_count": 85,
   "id": "9f3e54f0",
   "metadata": {},
   "outputs": [
    {
     "data": {
      "text/plain": [
       "{'t': {4, 22, 33}, 'w': {11, 22.4, 43}, 'r': {3, 30, 41, 55}}"
      ]
     },
     "execution_count": 85,
     "metadata": {},
     "output_type": "execute_result"
    }
   ],
   "source": [
    "e[100]"
   ]
  },
  {
   "cell_type": "code",
   "execution_count": 87,
   "id": "85f0813d",
   "metadata": {},
   "outputs": [
    {
     "data": {
      "text/plain": [
       "{4, 22, 33}"
      ]
     },
     "execution_count": 87,
     "metadata": {},
     "output_type": "execute_result"
    }
   ],
   "source": [
    "e[100]['t']"
   ]
  },
  {
   "cell_type": "code",
   "execution_count": 88,
   "id": "d7f2a984",
   "metadata": {},
   "outputs": [
    {
     "data": {
      "text/plain": [
       "3"
      ]
     },
     "execution_count": 88,
     "metadata": {},
     "output_type": "execute_result"
    }
   ],
   "source": [
    "len(e[100]['t'])"
   ]
  },
  {
   "cell_type": "code",
   "execution_count": 89,
   "id": "0f4df5dd",
   "metadata": {},
   "outputs": [
    {
     "data": {
      "text/plain": [
       "{100: {'t': {4, 22, 33}, 'w': {11, 22.4, 43}, 'r': {3, 30, 41, 55}},\n",
       " 45: {2: {4, 7, 9}, 8: {567, 778, 987}, 5: {880, 897, 5678}},\n",
       " 4: ('vivek', 3, 2),\n",
       " 5: [3, 22, 47, 47, 56]}"
      ]
     },
     "execution_count": 89,
     "metadata": {},
     "output_type": "execute_result"
    }
   ],
   "source": [
    "e"
   ]
  },
  {
   "cell_type": "code",
   "execution_count": 96,
   "id": "4f131654",
   "metadata": {},
   "outputs": [
    {
     "data": {
      "text/plain": [
       "{567, 778, 987}"
      ]
     },
     "execution_count": 96,
     "metadata": {},
     "output_type": "execute_result"
    }
   ],
   "source": [
    "e[45][8]"
   ]
  },
  {
   "cell_type": "code",
   "execution_count": null,
   "id": "e1362368",
   "metadata": {},
   "outputs": [],
   "source": [
    "in python we use the only and, not , or  => not that & and | and ~s "
   ]
  }
 ],
 "metadata": {
  "kernelspec": {
   "display_name": "Python 3 (ipykernel)",
   "language": "python",
   "name": "python3"
  },
  "language_info": {
   "codemirror_mode": {
    "name": "ipython",
    "version": 3
   },
   "file_extension": ".py",
   "mimetype": "text/x-python",
   "name": "python",
   "nbconvert_exporter": "python",
   "pygments_lexer": "ipython3",
   "version": "3.11.5"
  }
 },
 "nbformat": 4,
 "nbformat_minor": 5
}
