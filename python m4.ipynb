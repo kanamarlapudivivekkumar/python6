{
 "cells": [
  {
   "cell_type": "markdown",
   "id": "3d3aaf88",
   "metadata": {},
   "source": [
    "# function"
   ]
  },
  {
   "cell_type": "code",
   "execution_count": null,
   "id": "9135f9ab",
   "metadata": {},
   "outputs": [],
   "source": [
    "there are two types of function.they are built-in function and user defined function."
   ]
  },
  {
   "cell_type": "code",
   "execution_count": null,
   "id": "15b30499",
   "metadata": {},
   "outputs": [],
   "source": [
    "def function(parameter):\n",
    "    block of code\n",
    "    return output"
   ]
  },
  {
   "cell_type": "code",
   "execution_count": 6,
   "id": "e29ccdb4",
   "metadata": {},
   "outputs": [
    {
     "data": {
      "text/plain": [
       "78.5"
      ]
     },
     "execution_count": 6,
     "metadata": {},
     "output_type": "execute_result"
    }
   ],
   "source": [
    "def calArea(r):\n",
    "    a=3.14*r*r\n",
    "    return a\n",
    "calArea(5)"
   ]
  },
  {
   "cell_type": "code",
   "execution_count": 17,
   "id": "18d3f5e7",
   "metadata": {},
   "outputs": [
    {
     "data": {
      "text/plain": [
       "9498.500000000002"
      ]
     },
     "execution_count": 17,
     "metadata": {},
     "output_type": "execute_result"
    }
   ],
   "source": [
    "r=calArea(r=55)\n",
    "r"
   ]
  },
  {
   "cell_type": "code",
   "execution_count": 18,
   "id": "ded558ff",
   "metadata": {},
   "outputs": [
    {
     "data": {
      "text/plain": [
       "float"
      ]
     },
     "execution_count": 18,
     "metadata": {},
     "output_type": "execute_result"
    }
   ],
   "source": [
    "type(r)"
   ]
  },
  {
   "cell_type": "code",
   "execution_count": 8,
   "id": "ecde7f5a",
   "metadata": {},
   "outputs": [
    {
     "data": {
      "text/plain": [
       "25"
      ]
     },
     "execution_count": 8,
     "metadata": {},
     "output_type": "execute_result"
    }
   ],
   "source": [
    "def calSquare(r):\n",
    "    e=r*r\n",
    "    return e\n",
    "calSquare(5)"
   ]
  },
  {
   "cell_type": "code",
   "execution_count": 9,
   "id": "25253040",
   "metadata": {},
   "outputs": [
    {
     "data": {
      "text/plain": [
       "10"
      ]
     },
     "execution_count": 9,
     "metadata": {},
     "output_type": "execute_result"
    }
   ],
   "source": [
    "def sumAdd(a, b):\n",
    "    f=a + b\n",
    "    return f\n",
    "sumAdd(4, 6)"
   ]
  },
  {
   "cell_type": "code",
   "execution_count": 10,
   "id": "79708fc1",
   "metadata": {},
   "outputs": [],
   "source": [
    "def sumAdd(a,b):\n",
    "    o=a + b\n",
    "    print(o)"
   ]
  },
  {
   "cell_type": "code",
   "execution_count": 11,
   "id": "bade08c7",
   "metadata": {},
   "outputs": [
    {
     "name": "stdout",
     "output_type": "stream",
     "text": [
      "8\n"
     ]
    }
   ],
   "source": [
    "sumAdd(3,5)"
   ]
  },
  {
   "cell_type": "code",
   "execution_count": 13,
   "id": "cd82a5ce",
   "metadata": {},
   "outputs": [
    {
     "name": "stdout",
     "output_type": "stream",
     "text": [
      "7\n"
     ]
    }
   ],
   "source": [
    "w=sumAdd(4,3)\n",
    "w"
   ]
  },
  {
   "cell_type": "code",
   "execution_count": 14,
   "id": "7c41264d",
   "metadata": {},
   "outputs": [
    {
     "data": {
      "text/plain": [
       "NoneType"
      ]
     },
     "execution_count": 14,
     "metadata": {},
     "output_type": "execute_result"
    }
   ],
   "source": [
    "type(w)"
   ]
  },
  {
   "cell_type": "code",
   "execution_count": 24,
   "id": "bf7ae8d1",
   "metadata": {},
   "outputs": [
    {
     "data": {
      "text/plain": [
       "12"
      ]
     },
     "execution_count": 24,
     "metadata": {},
     "output_type": "execute_result"
    }
   ],
   "source": [
    "def aor(l,b):\n",
    "    a=l*b\n",
    "    return a\n",
    "aor(4,3)"
   ]
  },
  {
   "cell_type": "code",
   "execution_count": 25,
   "id": "58e9fd6f",
   "metadata": {},
   "outputs": [
    {
     "data": {
      "text/plain": [
       "12"
      ]
     },
     "execution_count": 25,
     "metadata": {},
     "output_type": "execute_result"
    }
   ],
   "source": [
    "aor(4,3)"
   ]
  },
  {
   "cell_type": "code",
   "execution_count": 26,
   "id": "bafcc4d6",
   "metadata": {},
   "outputs": [
    {
     "data": {
      "text/plain": [
       "14"
      ]
     },
     "execution_count": 26,
     "metadata": {},
     "output_type": "execute_result"
    }
   ],
   "source": [
    "aor(l=7,b=2)"
   ]
  },
  {
   "cell_type": "code",
   "execution_count": 30,
   "id": "3d1aeca9",
   "metadata": {},
   "outputs": [
    {
     "data": {
      "text/plain": [
       "(50.24, 30)"
      ]
     },
     "execution_count": 30,
     "metadata": {},
     "output_type": "execute_result"
    }
   ],
   "source": [
    "def area(r,l,b):\n",
    "    circle=3.14*r*r\n",
    "    rectangle=l*b\n",
    "    return circle,rectangle\n",
    "area(4,5,6)"
   ]
  },
  {
   "cell_type": "code",
   "execution_count": 31,
   "id": "8937034f",
   "metadata": {},
   "outputs": [
    {
     "data": {
      "text/plain": [
       "'markapuram 533216 andhrapradesh'"
      ]
     },
     "execution_count": 31,
     "metadata": {},
     "output_type": "execute_result"
    }
   ],
   "source": [
    "t='markapuram 533216 andhrapradesh'\n",
    "t"
   ]
  },
  {
   "cell_type": "code",
   "execution_count": 32,
   "id": "9f880231",
   "metadata": {},
   "outputs": [
    {
     "data": {
      "text/plain": [
       "6"
      ]
     },
     "execution_count": 32,
     "metadata": {},
     "output_type": "execute_result"
    }
   ],
   "source": [
    "def countA(x):\n",
    "    a=x.lower()\n",
    "    return a.count('a')\n",
    "countA(t)"
   ]
  },
  {
   "cell_type": "code",
   "execution_count": 35,
   "id": "98634225",
   "metadata": {},
   "outputs": [],
   "source": [
    "def count_num_alpha(x):\n",
    "    c=0\n",
    "    d=0\n",
    "    for i in x:\n",
    "        if i.isalpha():\n",
    "            c+=1\n",
    "        elif i.isnumeric():\n",
    "            d+=1\n",
    "    return{'number of aphabets':c,'number of digits':d}\n",
    "        "
   ]
  },
  {
   "cell_type": "code",
   "execution_count": 36,
   "id": "8ba7fe13",
   "metadata": {},
   "outputs": [
    {
     "data": {
      "text/plain": [
       "{'number of aphabets': 23, 'number of digits': 6}"
      ]
     },
     "execution_count": 36,
     "metadata": {},
     "output_type": "execute_result"
    }
   ],
   "source": [
    "count_num_alpha(t)"
   ]
  },
  {
   "cell_type": "code",
   "execution_count": null,
   "id": "a9f498c8",
   "metadata": {},
   "outputs": [],
   "source": []
  }
 ],
 "metadata": {
  "kernelspec": {
   "display_name": "Python 3 (ipykernel)",
   "language": "python",
   "name": "python3"
  },
  "language_info": {
   "codemirror_mode": {
    "name": "ipython",
    "version": 3
   },
   "file_extension": ".py",
   "mimetype": "text/x-python",
   "name": "python",
   "nbconvert_exporter": "python",
   "pygments_lexer": "ipython3",
   "version": "3.11.5"
  }
 },
 "nbformat": 4,
 "nbformat_minor": 5
}
